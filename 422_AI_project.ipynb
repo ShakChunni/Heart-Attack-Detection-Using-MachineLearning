{
  "cells": [
    {
      "cell_type": "code",
      "execution_count": null,
      "metadata": {
        "id": "0B3nnq1z-Mdn"
      },
      "outputs": [],
      "source": [
        "import pandas as pd\n",
        "import numpy as np\n",
        "import sklearn \n"
      ]
    },
    {
      "attachments": {},
      "cell_type": "markdown",
      "metadata": {
        "id": "4XD5SEtv-Mdq"
      },
      "source": [
        "## Load dataset"
      ]
    },
    {
      "cell_type": "code",
      "execution_count": null,
      "metadata": {
        "id": "vcbwx6Xr-Mds"
      },
      "outputs": [],
      "source": [
        "raw_dataset=pd.read_csv('./drive/MyDrive/ml_project/heart_2020.csv')\n",
        "# raw_dataset.shape"
      ]
    },
    {
      "cell_type": "code",
      "execution_count": null,
      "metadata": {
        "colab": {
          "base_uri": "https://localhost:8080/"
        },
        "id": "hQxyR9sa-Tlr",
        "outputId": "e62253cc-a92f-49ee-8683-ae5a06c7f646"
      },
      "outputs": [
        {
          "name": "stdout",
          "output_type": "stream",
          "text": [
            "Drive already mounted at /content/drive; to attempt to forcibly remount, call drive.mount(\"/content/drive\", force_remount=True).\n"
          ]
        }
      ],
      "source": [
        "from google.colab import drive\n",
        "drive.mount('/content/drive')"
      ]
    },
    {
      "cell_type": "code",
      "execution_count": null,
      "metadata": {
        "id": "OaXAsDEg-Mds"
      },
      "outputs": [],
      "source": [
        "# raw_dataset.head()\n",
        "# raw_dataset.sample()\n",
        "# raw_dataset.isnull().sum()\n"
      ]
    },
    {
      "attachments": {},
      "cell_type": "markdown",
      "metadata": {
        "id": "wEDtYzXm-Mdt"
      },
      "source": [
        "## Pre-process dataset-null value handling "
      ]
    },
    {
      "cell_type": "code",
      "execution_count": null,
      "metadata": {
        "colab": {
          "base_uri": "https://localhost:8080/"
        },
        "id": "2yc_AglP-Mdt",
        "outputId": "f63c40b8-7535-4b54-ff11-fb9dd6b91863"
      },
      "outputs": [
        {
          "data": {
            "text/plain": [
              "(49985, 18)"
            ]
          },
          "execution_count": 25,
          "metadata": {},
          "output_type": "execute_result"
        }
      ],
      "source": [
        "#null value handling\n",
        "raw_dataset=raw_dataset.dropna(axis=0,subset=['Sex'])\n",
        "raw_dataset.shape"
      ]
    },
    {
      "cell_type": "code",
      "execution_count": null,
      "metadata": {
        "id": "m9q1RKZn-Mdv"
      },
      "outputs": [],
      "source": [
        "# raw_dataset.describe()\n"
      ]
    },
    {
      "cell_type": "code",
      "execution_count": null,
      "metadata": {
        "id": "4A-hBnij-Mdv"
      },
      "outputs": [],
      "source": [
        "# raw_dataset.columns"
      ]
    },
    {
      "attachments": {},
      "cell_type": "markdown",
      "metadata": {
        "id": "pXyUEK-p-Mdw"
      },
      "source": [
        "## -categorical value encoding "
      ]
    },
    {
      "cell_type": "code",
      "execution_count": null,
      "metadata": {
        "id": "07Y6nwVP-Mdw"
      },
      "outputs": [],
      "source": [
        "# Encoding\n",
        "numeric_features=['BMI', 'PhysicalHealth', 'MentalHealth', 'SleepTime']\n",
        "categorical_features=['HeartDisease', 'Smoking', 'AlcoholDrinking', 'Stroke', 'DiffWalking', 'Sex', 'AgeCategory',\n",
        "       'Race', 'Diabetic', 'PhysicalActivity', 'GenHealth','Asthma', 'KidneyDisease', 'SkinCancer']\n",
        "# \n",
        "from sklearn.preprocessing import OrdinalEncoder\n",
        "enc = OrdinalEncoder()\n",
        "enc.fit(raw_dataset[categorical_features])\n",
        "raw_dataset[categorical_features] = enc.transform(raw_dataset[categorical_features])"
      ]
    },
    {
      "cell_type": "code",
      "execution_count": null,
      "metadata": {
        "id": "gq6_IVLK-Mdx"
      },
      "outputs": [],
      "source": [
        "# raw_dataset"
      ]
    },
    {
      "attachments": {},
      "cell_type": "markdown",
      "metadata": {
        "id": "wvlmmSbA-Mdx"
      },
      "source": [
        "## Dataset splitting"
      ]
    },
    {
      "cell_type": "code",
      "execution_count": null,
      "metadata": {
        "id": "HMPUR-yJ-Mdx"
      },
      "outputs": [],
      "source": [
        "# Training Testing\n",
        "y=raw_dataset[['HeartDisease']]\n",
        "x=raw_dataset[['BMI', 'PhysicalHealth', 'MentalHealth', 'SleepTime', 'Smoking', 'AlcoholDrinking', 'Stroke', 'DiffWalking', 'Sex', 'AgeCategory',\n",
        "       'Race', 'Diabetic', 'PhysicalActivity', 'GenHealth','Asthma', 'KidneyDisease', 'SkinCancer']]\n",
        "from sklearn.model_selection import train_test_split\n",
        "\n",
        "\n",
        "X_train,X_test,y_train,y_test=train_test_split(x,y,test_size=0.25,random_state=0)"
      ]
    },
    {
      "cell_type": "code",
      "execution_count": null,
      "metadata": {
        "id": "XbEtvC27-Mdy"
      },
      "outputs": [],
      "source": [
        "# x_train.shape\n",
        "# y_train.shape"
      ]
    },
    {
      "attachments": {},
      "cell_type": "markdown",
      "metadata": {
        "id": "r7F4ijAF-Mdy"
      },
      "source": [
        "## Feature scaling"
      ]
    },
    {
      "cell_type": "code",
      "execution_count": null,
      "metadata": {
        "id": "VZfzsLGf-Mdy"
      },
      "outputs": [],
      "source": [
        "# feature scaling\n",
        "\n",
        "from sklearn.preprocessing import  MinMaxScaler\n",
        "scaler=MinMaxScaler()\n",
        "scaler.fit(X_train)\n",
        "\n",
        "# transform\n",
        "X_train_scaled=scaler.transform(X_train)\n",
        "\n",
        "X_test_scaled=scaler.transform(X_test)\n"
      ]
    },
    {
      "cell_type": "code",
      "execution_count": null,
      "metadata": {
        "id": "qmBz2ldH-Mdz"
      },
      "outputs": [],
      "source": [
        "from sklearn.neighbors import KNeighborsClassifier\n",
        "from sklearn.linear_model import LogisticRegression\n",
        "from sklearn.metrics import accuracy_score,classification_report,confusion_matrix\n",
        "from xgboost import XGBClassifier\n",
        "\n"
      ]
    },
    {
      "attachments": {},
      "cell_type": "markdown",
      "metadata": {
        "id": "2CaBhmIf-Mdz"
      },
      "source": [
        "\n",
        "## Dataset training\n",
        "## &\n",
        "## Dataset testing"
      ]
    },
    {
      "cell_type": "code",
      "execution_count": null,
      "metadata": {
        "colab": {
          "base_uri": "https://localhost:8080/"
        },
        "id": "dscaFCC8-Mdz",
        "outputId": "7da94cb1-1e64-42e0-fc25-f443ac7b2aac"
      },
      "outputs": [
        {
          "name": "stderr",
          "output_type": "stream",
          "text": [
            "/usr/local/lib/python3.8/dist-packages/sklearn/neighbors/_classification.py:198: DataConversionWarning: A column-vector y was passed when a 1d array was expected. Please change the shape of y to (n_samples,), for example using ravel().\n",
            "  return self._fit(X, y)\n"
          ]
        },
        {
          "name": "stdout",
          "output_type": "stream",
          "text": [
            "KNeighborsClassifier()\n",
            "Accuracy_score: 90.41369928782908%\n"
          ]
        },
        {
          "name": "stderr",
          "output_type": "stream",
          "text": [
            "/usr/local/lib/python3.8/dist-packages/sklearn/utils/validation.py:993: DataConversionWarning: A column-vector y was passed when a 1d array was expected. Please change the shape of y to (n_samples, ), for example using ravel().\n",
            "  y = column_or_1d(y, warn=True)\n"
          ]
        },
        {
          "name": "stdout",
          "output_type": "stream",
          "text": [
            "LogisticRegression()\n",
            "Accuracy_score: 91.23789709530288%\n"
          ]
        },
        {
          "name": "stderr",
          "output_type": "stream",
          "text": [
            "/usr/local/lib/python3.8/dist-packages/sklearn/preprocessing/_label.py:98: DataConversionWarning: A column-vector y was passed when a 1d array was expected. Please change the shape of y to (n_samples, ), for example using ravel().\n",
            "  y = column_or_1d(y, warn=True)\n",
            "/usr/local/lib/python3.8/dist-packages/sklearn/preprocessing/_label.py:133: DataConversionWarning: A column-vector y was passed when a 1d array was expected. Please change the shape of y to (n_samples, ), for example using ravel().\n",
            "  y = column_or_1d(y, warn=True)\n"
          ]
        },
        {
          "name": "stdout",
          "output_type": "stream",
          "text": [
            "XGBClassifier()\n",
            "Accuracy_score: 91.28590861806833%\n"
          ]
        }
      ],
      "source": [
        "\n",
        "models = [KNeighborsClassifier(), LogisticRegression(), XGBClassifier()]\n",
        "accuracy=[]\n",
        "for model in models:\n",
        "  model.fit(X_train_scaled,y_train)\n",
        "  y_pred=model.predict(X_test_scaled)\n",
        "  score=accuracy_score(y_test,y_pred)*100\n",
        "  accuracy.append(score)\n",
        "  print(str(model))\n",
        "  print(f'Accuracy_score: {score}%')\n",
        "  print(confusion_matrix(y_test,y_pred))\n",
        "error=[]\n",
        "for i in accuracy:\n",
        "  error.append(100-i)\n"
      ]
    },
    {
      "cell_type": "markdown",
      "metadata": {
        "id": "zRm5IW8--Mdz"
      },
      "source": [
        "9. Comparison analysis between multiple models (accuracy score, error rate etc.) using bar plot"
      ]
    },
    {
      "cell_type": "code",
      "execution_count": null,
      "metadata": {
        "id": "K1nA-idb-Md0"
      },
      "outputs": [],
      "source": [
        "import matplotlib.pyplot as plt\n",
        "models=['KNeighborsClassifier','LogisticRegression','XGBClassifier']\n",
        "xpos=np.arange(len(models))\n",
        "\n",
        "# ypos\n"
      ]
    },
    {
      "cell_type": "code",
      "execution_count": null,
      "metadata": {
        "colab": {
          "base_uri": "https://localhost:8080/",
          "height": 312
        },
        "id": "-tfnXhvM-Md0",
        "outputId": "b64014e2-34e9-432c-f0d6-b1b01ce16bb3"
      },
      "outputs": [
        {
          "data": {
            "text/plain": [
              "<matplotlib.legend.Legend at 0x7f4ac6b575b0>"
            ]
          },
          "execution_count": 36,
          "metadata": {},
          "output_type": "execute_result"
        },
        {
          "data": {
            "image/png": "[encoded data removed]",
            "text/plain": [
              "<Figure size 432x288 with 1 Axes>"
            ]
          },
          "metadata": {
            "needs_background": "light"
          },
          "output_type": "display_data"
        }
      ],
      "source": [
        "plt.xticks(xpos,models)\n",
        "plt.title('Comparison of Accuracy and Error among Models')\n",
        "plt.xlabel('Model Used')\n",
        "\n",
        "plt.ylabel('Accuracy of Model')\n",
        "\n",
        "plt.bar(xpos-.2,accuracy,width=0.4,color='green',label='Accuracy')\n",
        "\n",
        "plt.bar(xpos+.2,error,width=.4,color='orange',label='Error')\n",
        "\n",
        "plt.legend()"
      ]
    }
  ],
  "metadata": {
    "colab": {
      "provenance": []
    },
    "kernelspec": {
      "display_name": "Python 3",
      "language": "python",
      "name": "python3"
    },
    "language_info": {
      "codemirror_mode": {
        "name": "ipython",
        "version": 3
      },
      "file_extension": ".py",
      "mimetype": "text/x-python",
      "name": "python",
      "nbconvert_exporter": "python",
      "pygments_lexer": "ipython3",
      "version": "3.11.1"
    },
    "orig_nbformat": 4,
    "vscode": {
      "interpreter": {
        "hash": "adb7edb771d3fd01d7bc33d6ae34722bf774b2f734ca8f65fa5c4ef976d8cdb8"
      }
    }
  },
  "nbformat": 4,
  "nbformat_minor": 0
}
